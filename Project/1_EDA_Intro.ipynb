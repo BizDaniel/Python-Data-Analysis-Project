{
 "cells": [
  {
   "cell_type": "markdown",
   "id": "d6652139",
   "metadata": {},
   "source": [
    "# Exploratory Data Analysis & Intro\n",
    "\n",
    "## Goal\n",
    "\n",
    "1. Investigate top-paying roles and skills in the data science industry.\n",
    "2. Use Pyhton to explore a real-live dataset on job postings.\n",
    "3. For job-seekers: use these insights to hel find the best job opportunities.\n",
    "\n",
    "## Final Deliverables:\n",
    "\n",
    "* Create Jupyter Notebooks (showcasing core skills in Python).\n",
    "* Create a summary page (via README.md) capturing your findings.\n",
    "* Share this project via Github.\n",
    "\n",
    "## Questions to Answer\n",
    "\n",
    "1. What are the most demanded skills for the top 3 most popular data roles?\n",
    "2. How are in_demand skills trending for Data Analyst?\n",
    "3. How well do jobs and skills pay for Data Analyst?\n",
    "4. What is the most optimal skill to learn for Data Analyst? (High Demand AND High Paying)\n",
    "\n",
    "I'll be focusing on US Data Analyst roles, but is it possible to adapt to any.\n",
    "\n",
    "\n",
    "\n"
   ]
  },
  {
   "cell_type": "markdown",
   "id": "548166a3",
   "metadata": {},
   "source": []
  }
 ],
 "metadata": {
  "kernelspec": {
   "display_name": "python_project",
   "language": "python",
   "name": "python3"
  },
  "language_info": {
   "name": "python",
   "version": "3.12.7"
  }
 },
 "nbformat": 4,
 "nbformat_minor": 5
}
